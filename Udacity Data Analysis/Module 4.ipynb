{
 "cells": [
  {
   "cell_type": "code",
   "execution_count": 1,
   "metadata": {
    "collapsed": true
   },
   "outputs": [],
   "source": [
    "## reading a CSV file\n",
    "\n",
    "#we can represent cvs as a list of rows or a dictionary\n",
    "\n",
    "\n",
    "import unicodecsv\n",
    "\n",
    "'''\n",
    "enrollments = []\n",
    "f = open('enrollments.csv','rb') #rb means that the file can be open for reading\n",
    "reader = unicodecsv.DictReader(f) #row will be dictionary, since data has header\n",
    "# reader will be a iterator \n",
    "for row in reader:\n",
    "    enrollments.append(row)\n",
    "    \n",
    "for row in reader:  #this does not work, because you can only loop iterator once\n",
    "    print row\n",
    "    \n",
    "f.close()\n",
    "\n",
    "enrollments[0]\n",
    "'''\n",
    "\n",
    "# note that we can re-write our function above:\n",
    "\n",
    "def read_csv(filename):\n",
    "    with open(filename, 'rb') as f: #using with for file can avoid writing f.close()\n",
    "        reader = unicodecsv.DictReader(f)\n",
    "        return list(reader) #convert iterator to a list, avoid using for loop to append\n",
    "\n",
    "enrollments = read_csv('enrollments.csv')\n",
    "daily_engagement = read_csv('daily-engagement.csv')\n",
    "project_submissions = read_csv('project-submissions.csv')\n",
    "\n",
    "\n",
    "\n"
   ]
  },
  {
   "cell_type": "markdown",
   "metadata": {
    "collapsed": true
   },
   "source": [
    "## 修正数据类型\n"
   ]
  },
  {
   "cell_type": "code",
   "execution_count": 2,
   "metadata": {},
   "outputs": [
    {
     "data": {
      "text/plain": [
       "{u'account_key': u'448',\n",
       " u'cancel_date': datetime.datetime(2015, 1, 14, 0, 0),\n",
       " u'days_to_cancel': 65,\n",
       " u'is_canceled': True,\n",
       " u'is_udacity': True,\n",
       " u'join_date': datetime.datetime(2014, 11, 10, 0, 0),\n",
       " u'status': u'canceled'}"
      ]
     },
     "execution_count": 2,
     "metadata": {},
     "output_type": "execute_result"
    }
   ],
   "source": [
    "from datetime import datetime as dt\n",
    "\n",
    "# 将字符串格式的时间转为 Python datetime 类型的时间。\n",
    "# 如果没有时间字符串传入，返回 None\n",
    "\n",
    "def parse_date(date):\n",
    "    if date == '':\n",
    "        return None\n",
    "    else:\n",
    "        return dt.strptime(date, '%Y-%m-%d')#convert date to new format\n",
    "    \n",
    "# 将可能是空字符串或字符串类型的数据转为 整型 或 None。\n",
    "\n",
    "def parse_maybe_int(i):\n",
    "    if i == '':\n",
    "        return None\n",
    "    else:\n",
    "        return int(i)\n",
    "\n",
    "# 清理 enrollments 表格中的数据类型\n",
    "\n",
    "for enrollment in enrollments:\n",
    "    enrollment['cancel_date'] = parse_date(enrollment['cancel_date'])\n",
    "    enrollment['days_to_cancel'] = parse_maybe_int(enrollment['days_to_cancel'])\n",
    "    enrollment['is_canceled'] = enrollment['is_canceled'] == 'True'\n",
    "    enrollment['is_udacity'] = enrollment['is_udacity'] == 'True'\n",
    "    enrollment['join_date'] = parse_date(enrollment['join_date'])\n",
    "    \n",
    "enrollments[0]"
   ]
  },
  {
   "cell_type": "code",
   "execution_count": 3,
   "metadata": {},
   "outputs": [
    {
     "data": {
      "text/plain": [
       "{u'acct': u'0',\n",
       " u'lessons_completed': 0,\n",
       " u'num_courses_visited': 1,\n",
       " u'projects_completed': 0,\n",
       " u'total_minutes_visited': 11.6793745,\n",
       " u'utc_date': datetime.datetime(2015, 1, 9, 0, 0)}"
      ]
     },
     "execution_count": 3,
     "metadata": {},
     "output_type": "execute_result"
    }
   ],
   "source": [
    "# 清理 engagement 的数据类型\n",
    "for engagement_record in daily_engagement:\n",
    "    engagement_record['lessons_completed'] = int(float(engagement_record['lessons_completed']))\n",
    "    engagement_record['num_courses_visited'] = int(float(engagement_record['num_courses_visited']))\n",
    "    engagement_record['projects_completed'] = int(float(engagement_record['projects_completed']))\n",
    "    engagement_record['total_minutes_visited'] = float(engagement_record['total_minutes_visited'])\n",
    "    engagement_record['utc_date'] = parse_date(engagement_record['utc_date'])\n",
    "    \n",
    "daily_engagement[0]"
   ]
  },
  {
   "cell_type": "code",
   "execution_count": 4,
   "metadata": {},
   "outputs": [
    {
     "data": {
      "text/plain": [
       "{u'account_key': u'256',\n",
       " u'assigned_rating': u'UNGRADED',\n",
       " u'completion_date': datetime.datetime(2015, 1, 16, 0, 0),\n",
       " u'creation_date': datetime.datetime(2015, 1, 14, 0, 0),\n",
       " u'lesson_key': u'3176718735',\n",
       " u'processing_state': u'EVALUATED'}"
      ]
     },
     "execution_count": 4,
     "metadata": {},
     "output_type": "execute_result"
    }
   ],
   "source": [
    "# 清理 submissions 的数据类型\n",
    "for submission in project_submissions:\n",
    "    submission['completion_date'] = parse_date(submission['completion_date'])\n",
    "    submission['creation_date'] = parse_date(submission['creation_date'])\n",
    "\n",
    "project_submissions[0]"
   ]
  },
  {
   "cell_type": "markdown",
   "metadata": {},
   "source": [
    "注意：当我们在运行上方的单元格时，我们已经改变了数据变量中的内容。如果你试着在同一个会话多次运行这些单元格时，可能会出错。\n",
    "\n",
    "## 探索数据"
   ]
  },
  {
   "cell_type": "code",
   "execution_count": 5,
   "metadata": {
    "collapsed": true
   },
   "outputs": [],
   "source": [
    "\n",
    "\n",
    "## 计算每张表中的总行数，和独立学生（拥有独立的 account keys）的数量\n",
    "\n",
    "def distinct_key(dataset):\n",
    "    account = []\n",
    "    try:\n",
    "        for item in dataset:\n",
    "            account_key = item['account_key']\n",
    "            if account_key not in account:\n",
    "                account.append(account_key)\n",
    "        return len(dataset), len(account)\n",
    "    except:\n",
    "        for item in dataset:\n",
    "            account_key = item['acct']\n",
    "            if account_key not in account:\n",
    "                account.append(account_key)\n",
    "        return len(dataset), len(account)\n",
    "        "
   ]
  },
  {
   "cell_type": "markdown",
   "metadata": {},
   "source": [
    "## 数据中的问题"
   ]
  },
  {
   "cell_type": "code",
   "execution_count": 6,
   "metadata": {},
   "outputs": [
    {
     "name": "stdout",
     "output_type": "stream",
     "text": [
      "0\n"
     ]
    }
   ],
   "source": [
    "\n",
    "'''change acct to account_key'''\n",
    "\n",
    "for engagement_record in daily_engagement:\n",
    "    engagement_record['account_key'] = engagement_record['acct']\n",
    "    del engagement_record['acct']\n",
    "    \n",
    "print daily_engagement[0]['account_key']"
   ]
  },
  {
   "cell_type": "code",
   "execution_count": 7,
   "metadata": {},
   "outputs": [
    {
     "name": "stdout",
     "output_type": "stream",
     "text": [
      "1640\n",
      "[u'1304', u'1304', u'1101']\n",
      "1622\n"
     ]
    }
   ],
   "source": [
    "'''why are students missing from daily-engagement table?'''\n",
    "key = []\n",
    "for x in daily_engagement:\n",
    "    key.append(x['account_key'])\n",
    "print len(enrollments)\n",
    "\n",
    "\n",
    "\n",
    "test_account = []\n",
    "for item in enrollments:\n",
    "    if item['account_key'] not in key:\n",
    "        if item['join_date'] != item['cancel_date']:\n",
    "            test_account.append(item['account_key'])\n",
    "print test_account\n",
    "\n",
    "def remove_test_account(dataset):\n",
    "    new_dataset = []\n",
    "    for item in dataset:\n",
    "        if item['is_udacity'] == False:\n",
    "            new_dataset.append(item)\n",
    "            \n",
    "    return new_dataset\n",
    "\n",
    "revised_enrollments = remove_test_account(enrollments)\n",
    "\n",
    "print len(remove_test_account(enrollments))\n",
    "\n",
    "\n",
    "\n",
    "# 为所有 Udacity 测试帐号建立一组 set \n",
    "udacity_test_accounts = set()\n",
    "for enrollment in enrollments:\n",
    "    if enrollment['is_udacity']:\n",
    "        udacity_test_accounts.add(enrollment['account_key'])\n",
    "len(udacity_test_accounts)\n",
    "\n",
    "def revise_dataset(data):\n",
    "    non_udacity_data = []\n",
    "    for data_point in data:\n",
    "        if data_point['account_key'] not in udacity_test_accounts:\n",
    "            non_udacity_data.append(data_point)\n",
    "    return non_udacity_data\n",
    "\n",
    "revised_engagements = revise_dataset(daily_engagement)\n",
    "revised_submissions = revise_dataset(project_submissions)\n",
    "\n"
   ]
  },
  {
   "cell_type": "markdown",
   "metadata": {
    "collapsed": true
   },
   "source": [
    "# Further Investigate\n"
   ]
  },
  {
   "cell_type": "markdown",
   "metadata": {},
   "source": [
    "### how do numbers in the daily engagement table differ for students who eventually pass the first project and who do not?\n",
    "    \n",
    "problem 1: This will include data from after the project submission\n",
    "\n",
    "problem 2: This compares data from different lengths of time\n",
    "\n",
    "problem 3: Includes engagement in courses not related to the first project\n",
    "\n",
    "### Revision: only look at engagement from first week, and exclude students who cancel within a week\n",
    "\n",
    "getting started:\n",
    "\n",
    "Created a dictionary of students who either:\n",
    "* have not canceled yet\n",
    "* stayed enrolled more than 7 days\n",
    "\n",
    "keys: account_key; values: enrollment date\n"
   ]
  },
  {
   "cell_type": "code",
   "execution_count": 8,
   "metadata": {},
   "outputs": [
    {
     "name": "stdout",
     "output_type": "stream",
     "text": [
      "995\n"
     ]
    }
   ],
   "source": [
    "\n",
    "def dict_valid_enroll(dataset):\n",
    "    dic = {}\n",
    "    for item in dataset:\n",
    "        if (not item['is_canceled'] or \n",
    "                item['days_to_cancel'] > 7):\n",
    "                key = item['account_key']\n",
    "                value = item['join_date']\n",
    "                if key not in dic:\n",
    "                    dic[key] = value\n",
    "                else:\n",
    "                    if dic[key] < value:\n",
    "                        dic[key] = value\n",
    "    return dic\n",
    "\n",
    "print len(dict_valid_enroll(revised_enrollments))\n",
    "paid_students = dict_valid_enroll(revised_enrollments)\n"
   ]
  },
  {
   "cell_type": "markdown",
   "metadata": {},
   "source": [
    "## 获取第1周的数据\n",
    "获取第1周的数据"
   ]
  },
  {
   "cell_type": "code",
   "execution_count": 9,
   "metadata": {
    "collapsed": true
   },
   "outputs": [],
   "source": [
    "# 基于学生的加入日期和特定一天的互动记录，\n",
    "# 若该互动记录发生在学生加入1周内，则反回 True\n",
    "\n",
    "def within_one_week(join_date, engagement_date):\n",
    "    time_delta = engagement_date - join_date\n",
    "    return time_delta.days < 7 and time_delta.days >= 0"
   ]
  },
  {
   "cell_type": "code",
   "execution_count": 10,
   "metadata": {},
   "outputs": [
    {
     "name": "stdout",
     "output_type": "stream",
     "text": [
      "6919\n"
     ]
    }
   ],
   "source": [
    "## 创建一个 engagement 记录的列表，\n",
    "## 该列表只包括付费学生以及加入的前7天的学生的记录\n",
    "## 输入符合要求的行数\n",
    "\n",
    "def lisof_paid_students(dataset):\n",
    "    new = []\n",
    "    for item in dataset:\n",
    "        if item['account_key'] in paid_students:\n",
    "            new.append(item)\n",
    "    return new\n",
    "\n",
    "\n",
    "\n",
    "paid_enrollment = lisof_paid_students(revised_enrollments)\n",
    "paid_engagement = lisof_paid_students(revised_engagements)\n",
    "paid_submission = lisof_paid_students(revised_submissions)\n",
    "\n",
    "\n",
    "def record_within_7days():\n",
    "    lis = []\n",
    "    for item in paid_engagement:\n",
    "        engagement_date = item['utc_date']\n",
    "        key = item['account_key']\n",
    "        join_date = paid_students[key]\n",
    "        if within_one_week(join_date,engagement_date):\n",
    "            lis.append(item)\n",
    "    return lis\n",
    "\n",
    "print len(record_within_7days())\n",
    "\n",
    "paid_engagement_in_first_week = record_within_7days()\n",
    "#print paid_engagement_in_first_week\n",
    "\n",
    "## now I will add new field to check whether a student taking classes \n",
    "##   or not for each day\n",
    "\n",
    "for item in paid_engagement_in_first_week:\n",
    "    num_of_courses = item['lessons_completed']\n",
    "    if num_of_courses > 0:\n",
    "        item['whether_study'] = True\n",
    "    else:\n",
    "        item['whether_study'] = False\n",
    "\n"
   ]
  },
  {
   "cell_type": "markdown",
   "metadata": {},
   "source": [
    "## Exploring Student Engagement"
   ]
  },
  {
   "cell_type": "code",
   "execution_count": 11,
   "metadata": {
    "scrolled": true
   },
   "outputs": [],
   "source": [
    "from collections import defaultdict\n",
    "\n",
    "# 创建基于 student 对 engagement 进行分组的字典，字典的键为帐号（account key），值为包含互动记录的列表\n",
    "\n",
    "def classify_engagement(data, key):\n",
    "    engagement_by_account = defaultdict(list)\n",
    "    for engagement_record in data:\n",
    "        account_key = engagement_record[key]\n",
    "        engagement_by_account[account_key].append(engagement_record)\n",
    "    return engagement_by_account\n",
    "\n",
    "account_key = 'account_key'\n",
    "engagement_by_account = classify_engagement(paid_engagement_in_first_week, account_key)\n",
    "\n"
   ]
  },
  {
   "cell_type": "code",
   "execution_count": 12,
   "metadata": {},
   "outputs": [],
   "source": [
    "# 创建一个包含学生在第1周在教室所花总时间和字典。键为帐号（account key），值为数字（所花总时间）\n",
    "\n",
    "def sum_value(data, key):\n",
    "    total_minutes_by_account = {}\n",
    "    for account_key, engagement_for_student in data.items():\n",
    "        total_minutes = 0\n",
    "        for engagement_record in engagement_for_student:\n",
    "            total_minutes += engagement_record[key]\n",
    "        total_minutes_by_account[account_key] = total_minutes\n",
    "    return total_minutes_by_account    \n",
    "    \n",
    "key = 'total_minutes_visited'\n",
    "total_minutes_by_account = sum_value(engagement_by_account, key) "
   ]
  },
  {
   "cell_type": "code",
   "execution_count": 64,
   "metadata": {},
   "outputs": [
    {
     "name": "stdout",
     "output_type": "stream",
     "text": [
      "Populating the interactive namespace from numpy and matplotlib\n",
      "Mean: 306.708326753\n",
      "Standard deviation: 412.996933409\n",
      "Minimum: 0.0\n",
      "Maximum: 3564.7332645\n"
     ]
    },
    {
     "data": {
      "image/png": "[encoded data removed]",
      "text/plain": [
       "<matplotlib.figure.Figure at 0x7f726aec4190>"
      ]
     },
     "metadata": {},
     "output_type": "display_data"
    }
   ],
   "source": [
    "import numpy as np\n",
    "\n",
    "# 汇总和描述关于教室所花时间的数据\n",
    "total_minutes = total_minutes_by_account.values()\n",
    "\n",
    "\n",
    "%pylab inline\n",
    "\n",
    "import matplotlib.pyplot as plt\n",
    "import numpy as np\n",
    "\n",
    "# Summarize the given data\n",
    "def describe_data(data):\n",
    "    print 'Mean:', np.mean(data)\n",
    "    print 'Standard deviation:', np.std(data)\n",
    "    print 'Minimum:', np.min(data)\n",
    "    print 'Maximum:', np.max(data)\n",
    "    plt.hist(data,bins=20)\n",
    "describe_data(total_minutes)\n",
    "#note that max number is greater than total minutes of a week =>error"
   ]
  },
  {
   "cell_type": "markdown",
   "metadata": {},
   "source": [
    "## Fix Code"
   ]
  },
  {
   "cell_type": "code",
   "execution_count": 65,
   "metadata": {},
   "outputs": [],
   "source": [
    "#note that max number is greater than total minutes of a week =>error\n",
    "#lets print out that student with that irregular max study time\n",
    "key\n",
    "max_min = 0\n",
    "for item in total_minutes_by_account:\n",
    "    if max_min < total_minutes_by_account[item]:\n",
    "        max_min = total_minutes_by_account[item]\n",
    "        key = item\n",
    "#print key\n",
    "#print engagement_by_account[key]\n",
    "\n",
    "## the printed result including the study not only within first week \n",
    "## but up to several month later\n",
    "## hence, we did not only get the result as first week\n",
    "## lets check the fucntion checking whether it is within 7 days"
   ]
  },
  {
   "cell_type": "markdown",
   "metadata": {
    "collapsed": true
   },
   "source": [
    "## 第1周完成的课程数（Lessons）\n",
    "\n"
   ]
  },
  {
   "cell_type": "code",
   "execution_count": 66,
   "metadata": {},
   "outputs": [
    {
     "name": "stdout",
     "output_type": "stream",
     "text": [
      "Mean: 1.63618090452\n",
      "Standard deviation: 3.00256129983\n",
      "Minimum: 0\n",
      "Maximum: 36\n"
     ]
    },
    {
     "data": {
      "image/png": "[encoded data removed]",
      "text/plain": [
       "<matplotlib.figure.Figure at 0x7f726b2d5610>"
      ]
     },
     "metadata": {},
     "output_type": "display_data"
    }
   ],
   "source": [
    "## 修改之前的代码，找出第1周学生完成课程数的 平均值、标准差、最小值、最大值。尝试创建一个或更多的函数来复用之前的代码\n",
    "\n",
    "account_key = 'account_key'\n",
    "engagement_by_account = classify_engagement(paid_engagement_in_first_week, account_key)\n",
    "\n",
    "key = 'lessons_completed'\n",
    "total_lessons_by_account = sum_value(engagement_by_account, key) \n",
    "\n",
    "import numpy as np\n",
    "total_lessons = total_lessons_by_account.values()\n",
    "describe_data(total_lessons)\n"
   ]
  },
  {
   "cell_type": "markdown",
   "metadata": {},
   "source": [
    "## 第1周的访问次数\n",
    "I will add a field of 0 or 1 to represent whether a student takes classes or not on each day. Then i will call the above two functions to print out all info\n",
    "\n"
   ]
  },
  {
   "cell_type": "code",
   "execution_count": 67,
   "metadata": {},
   "outputs": [
    {
     "name": "stdout",
     "output_type": "stream",
     "text": [
      "Mean: 1.08040201005\n",
      "Standard deviation: 1.47596075148\n",
      "Minimum: 0\n",
      "Maximum: 7\n"
     ]
    },
    {
     "data": {
      "image/png": "[encoded data removed]",
      "text/plain": [
       "<matplotlib.figure.Figure at 0x7f726b21c2d0>"
      ]
     },
     "metadata": {},
     "output_type": "display_data"
    }
   ],
   "source": [
    "account_key = 'account_key'\n",
    "engagement_by_account = classify_engagement(paid_engagement_in_first_week, account_key)\n",
    "\n",
    "key = 'whether_study'\n",
    "study_days_by_account = sum_value(engagement_by_account, key) \n",
    "\n",
    "import numpy as np\n",
    "study_days = study_days_by_account.values()\n",
    "\n",
    "describe_data(study_days)"
   ]
  },
  {
   "cell_type": "markdown",
   "metadata": {},
   "source": [
    "## 区分项目通过的学生"
   ]
  },
  {
   "cell_type": "code",
   "execution_count": 68,
   "metadata": {},
   "outputs": [
    {
     "name": "stdout",
     "output_type": "stream",
     "text": [
      "4527\n",
      "2392\n"
     ]
    }
   ],
   "source": [
    "## 创建两个付费学生第1周的互动数据列表（engagement）。第1个包含通过项目的学生，第2个包含没通过项目的学生。\n",
    "\n",
    "subway_project_lesson_keys = ['746169184', '3176718735']\n",
    "\n",
    "\n",
    "## you must use set instead of list because key should not be repeated but individual may\n",
    "##  submit the first project multiple times, you do not have to include key for all those times\n",
    "passing_engagement = set()\n",
    "non_passing_engagement = []\n",
    "\n",
    "for item in paid_submission:\n",
    "    lec_key = item['lesson_key']\n",
    "    if lec_key not in subway_project_lesson_keys:\n",
    "        continue\n",
    "    sub_status = item['assigned_rating']\n",
    "    if sub_status == 'PASSED' or sub_status == 'DISTINCTION':\n",
    "        passing_engagement.add(item['account_key'])\n",
    "        \n",
    "len(pass_subway_project)\n",
    "\n",
    "passing_engagement = []\n",
    "non_passing_engagement = []\n",
    "\n",
    "for engagement_record in paid_engagement_in_first_week:\n",
    "    if engagement_record['account_key'] in pass_subway_project:\n",
    "        passing_engagement.append(engagement_record)\n",
    "    else:\n",
    "        non_passing_engagement.append(engagement_record)\n",
    "\n",
    "print len(passing_engagement)\n",
    "print len(non_passing_engagement)\n",
    "\n",
    "\n",
    "\n"
   ]
  },
  {
   "cell_type": "markdown",
   "metadata": {},
   "source": [
    "# compare some facts between student passed the project the those who do not"
   ]
  },
  {
   "cell_type": "code",
   "execution_count": 69,
   "metadata": {},
   "outputs": [
    {
     "name": "stdout",
     "output_type": "stream",
     "text": [
      "Mean: 2.05255023184\n",
      "Standard deviation: 3.14222705558\n",
      "Minimum: 0\n",
      "Maximum: 36\n"
     ]
    },
    {
     "data": {
      "image/png": "[encoded data removed]",
      "text/plain": [
       "<matplotlib.figure.Figure at 0x7f726ad33550>"
      ]
     },
     "metadata": {},
     "output_type": "display_data"
    }
   ],
   "source": [
    "account_key = 'account_key'\n",
    "engagement_by_account2 = classify_engagement(passing_engagement, account_key)\n",
    "\n",
    "key = 'lessons_completed'\n",
    "total_lessons_by_account2 = sum_value(engagement_by_account2, key) \n",
    "\n",
    "import numpy as np\n",
    "total_lessons2 = total_lessons_by_account2.values()\n",
    "describe_data(total_lessons2)"
   ]
  },
  {
   "cell_type": "code",
   "execution_count": 70,
   "metadata": {},
   "outputs": [
    {
     "name": "stdout",
     "output_type": "stream",
     "text": [
      "Mean: 0.862068965517\n",
      "Standard deviation: 2.54915994183\n",
      "Minimum: 0\n",
      "Maximum: 27\n"
     ]
    },
    {
     "data": {
      "image/png": "[encoded data removed]",
      "text/plain": [
       "<matplotlib.figure.Figure at 0x7f726b329ed0>"
      ]
     },
     "metadata": {},
     "output_type": "display_data"
    }
   ],
   "source": [
    "account_key = 'account_key'\n",
    "engagement_by_account3 = classify_engagement(non_passing_engagement, account_key)\n",
    "\n",
    "key = 'lessons_completed'\n",
    "total_lessons_by_account3 = sum_value(engagement_by_account3, key) \n",
    "\n",
    "import numpy as np\n",
    "total_lessons3 = total_lessons_by_account3.values()\n",
    "describe_data(total_lessons3)"
   ]
  },
  {
   "cell_type": "markdown",
   "metadata": {},
   "source": [
    "## 制作直方图"
   ]
  },
  {
   "cell_type": "code",
   "execution_count": 75,
   "metadata": {},
   "outputs": [
    {
     "name": "stdout",
     "output_type": "stream",
     "text": [
      "Populating the interactive namespace from numpy and matplotlib\n"
     ]
    },
    {
     "data": {
      "text/plain": [
       "(array([ 506.,  217.,  110.,    0.,   65.,   59.,    0.,   24.,   11.,    3.]),\n",
       " array([ 0. ,  0.7,  1.4,  2.1,  2.8,  3.5,  4.2,  4.9,  5.6,  6.3,  7. ]),\n",
       " <a list of 10 Patch objects>)"
      ]
     },
     "execution_count": 75,
     "metadata": {},
     "output_type": "execute_result"
    },
    {
     "data": {
      "image/png": "[encoded data removed]",
      "text/plain": [
       "<matplotlib.figure.Figure at 0x7f7250b3a950>"
      ]
     },
     "metadata": {},
     "output_type": "display_data"
    }
   ],
   "source": [
    "## 针对通过项目和没有通过项目的两组学生，为我们之前研究的三个数据指标制作直方图。\n",
    "## 你也可以为其它你所检验的数据指标来制作直方图。\n",
    "\n",
    "'''\n",
    "matplotlib.pyplot.hist(x, bins=None, range=None, normed=False, \n",
    "weights=None, cumulative=False, bottom=None, histtype='bar', \n",
    "align='mid', orientation='vertical', rwidth=None, log=False, \n",
    "color=None, label=None, stacked=False, hold=None, data=None, **kwargs)\n",
    "\n",
    "x : (n,) array or sequence of (n,) arrays\n",
    "\n",
    "Input values, this takes either a single array or a sequency of arrays which are not required to be of the same length\n",
    "\n",
    "bins : integer or array_like or ‘auto’, optional\n",
    "\n",
    "If an integer is given, bins + 1 bin edges are returned, consistently with numpy.histogram() for numpy version >= 1.3.\n",
    "\n",
    "Unequally spaced bins are supported if bins is a sequence.\n",
    "\n",
    "If Numpy 1.11 is installed, may also be 'auto'.\n",
    "\n",
    "Default is taken from the rcParam hist.bins.\n",
    "\n",
    "range : tuple or None, optional\n",
    "\n",
    "The lower and upper range of the bins. Lower and upper outliers are ignored. If not provided, range is (x.min(), x.max()). Range has no effect if bins is a sequence.\n",
    "\n",
    "If bins is a sequence or range is specified, autoscaling is based on the specified bin range instead of the range of x.\n",
    "\n",
    "Default is None\n",
    "\n",
    "normed : boolean, optional\n",
    "\n",
    "If True, the first element of the return tuple will be the counts normalized to form a probability density, i.e., n/(len(x)`dbin), i.e., the integral of the histogram will sum to 1. If stacked is also True, the sum of the histograms is normalized to 1.\n",
    "\n",
    "Default is False\n",
    "\n",
    "weights : (n, ) array_like or None, optional\n",
    "\n",
    "An array of weights, of the same shape as x. Each value in x only contributes its associated weight towards the bin count (instead of 1). If normed is True, the weights are normalized, so that the integral of the density over the range remains 1.\n",
    "\n",
    "Default is None\n",
    "\n",
    "cumulative : boolean, optional\n",
    "\n",
    "If True, then a histogram is computed where each bin gives the counts in that bin plus all bins for smaller values. The last bin gives the total number of datapoints. If normed is also True then the histogram is normalized such that the last bin equals 1. If cumulative evaluates to less than 0 (e.g., -1), the direction of accumulation is reversed. In this case, if normed is also True, then the histogram is normalized such that the first bin equals 1.\n",
    "\n",
    "Default is False\n",
    "\n",
    "bottom : array_like, scalar, or None\n",
    "\n",
    "Location of the bottom baseline of each bin. If a scalar, the base line for each bin is shifted by the same amount. If an array, each bin is shifted independently and the length of bottom must match the number of bins. If None, defaults to 0.\n",
    "\n",
    "Default is None\n",
    "\n",
    "color : color or array_like of colors or None, optional\n",
    "\n",
    "Color spec or sequence of color specs, one per dataset. Default (None) uses the standard line color sequence.\n",
    "\n",
    "Default is None\n",
    "\n",
    "label : string or None, optional\n",
    "\n",
    "String, or sequence of strings to match multiple datasets. Bar charts yield multiple patches per dataset, but only the first gets the label, so that the legend command will work as expected.\n",
    "\n",
    "default is None\n",
    "'''\n",
    "%pylab inline\n",
    "\n",
    "import matplotlib.pyplot as plt\n",
    "import numpy as np\n",
    "\n",
    "import seaborn as sns\n",
    "plt.hist(total_minutes)\n",
    "plt.hist(total_lessons)\n",
    "plt.hist(study_days)"
   ]
  },
  {
   "cell_type": "markdown",
   "metadata": {},
   "source": [
    "## 改进图表及分享发现\n",
    "We don't know that the difference between two mean values of student passing the project and student do not pass is due to noise or real difference"
   ]
  },
  {
   "cell_type": "code",
   "execution_count": 76,
   "metadata": {},
   "outputs": [
    {
     "data": {
      "text/plain": [
       "<matplotlib.text.Text at 0x7f72509bf250>"
      ]
     },
     "execution_count": 76,
     "metadata": {},
     "output_type": "execute_result"
    },
    {
     "data": {
      "image/png": "[encoded data removed]",
      "text/plain": [
       "<matplotlib.figure.Figure at 0x7f7250abb0d0>"
      ]
     },
     "metadata": {},
     "output_type": "display_data"
    }
   ],
   "source": [
    "## 至少改进一幅之前的可视化图表，尝试导入 seaborn 库使你的图表看起来更美观。\n",
    "## 加入轴标签及表头，并修改一个或多个 hist() 内的变量。\n",
    "\n",
    "import seaborn as sns\n",
    "'''seaborn will aumomatically beautify graph'''\n",
    "\n",
    "plt.hist(total_minutes, bins=8)\n",
    "plt.xlabel('Number of days')\n",
    "plt.title('Distribution of classroom visits in the first week ' + \n",
    "          'for students who do not pass the subway project')\n",
    "\n"
   ]
  }
 ],
 "metadata": {
  "kernelspec": {
   "display_name": "Python 2",
   "language": "python",
   "name": "python2"
  },
  "language_info": {
   "codemirror_mode": {
    "name": "ipython",
    "version": 2
   },
   "file_extension": ".py",
   "mimetype": "text/x-python",
   "name": "python",
   "nbconvert_exporter": "python",
   "pygments_lexer": "ipython2",
   "version": "2.7.12"
  }
 },
 "nbformat": 4,
 "nbformat_minor": 2
}
